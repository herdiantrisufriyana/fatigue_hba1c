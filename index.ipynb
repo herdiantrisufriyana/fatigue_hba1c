{
 "cells": [
  {
   "cell_type": "markdown",
   "id": "226448c5-497f-432e-a7f9-fe3fa2a5cb98",
   "metadata": {},
   "source": [
    "# Programming environment"
   ]
  },
  {
   "cell_type": "code",
   "execution_count": 1,
   "id": "c64b8b7e-6102-44c1-a95e-0a50b09a6124",
   "metadata": {},
   "outputs": [],
   "source": [
    "# Define the seed for reproducibility\n",
    "seed = 2024-9-10"
   ]
  },
  {
   "cell_type": "code",
   "execution_count": 2,
   "id": "ae8b8b50-af8f-4620-9bc1-9f3d2ae3b5ab",
   "metadata": {},
   "outputs": [],
   "source": [
    "# Load existing functions from libraries\n",
    "from sklearn.metrics import mean_squared_error, make_scorer, precision_score"
   ]
  },
  {
   "cell_type": "code",
   "execution_count": 3,
   "id": "dacd29ba-9f9c-4444-9349-378426e0a283",
   "metadata": {},
   "outputs": [
    {
     "name": "stderr",
     "output_type": "stream",
     "text": [
      "IProgress not found. Please update jupyter and ipywidgets. See https://ipywidgets.readthedocs.io/en/stable/user_install.html\n"
     ]
    }
   ],
   "source": [
    "# Load custom functions from utils.py\n",
    "from utils import train_and_estimate_sample_size, train_and_save_model, load_and_predict, compute_shap_values"
   ]
  },
  {
   "cell_type": "code",
   "execution_count": 4,
   "id": "c8db6992-8c0f-45f5-8a7b-50819c2807ef",
   "metadata": {},
   "outputs": [],
   "source": [
    "from sklearn.linear_model import LogisticRegression\n",
    "from sklearn.svm import SVC\n",
    "from sklearn.naive_bayes import GaussianNB\n",
    "from sklearn.neighbors import KNeighborsClassifier\n",
    "from sklearn.tree import DecisionTreeClassifier\n",
    "from sklearn.ensemble import RandomForestClassifier, GradientBoostingClassifier\n",
    "from sklearn.neural_network import MLPClassifier\n",
    "import numpy as np\n",
    "\n",
    "models_and_params = {\n",
    "    'LogisticRegression': {\n",
    "        'model': LogisticRegression(penalty='l2', solver='lbfgs', max_iter=1000),\n",
    "        'param_grid': {\n",
    "            'C': np.logspace(-4, 4, 10)  # Regularization strength\n",
    "        }\n",
    "    },\n",
    "    'NaiveBayes': {\n",
    "        'model': GaussianNB(),  # Gaussian Naive Bayes\n",
    "        'param_grid': {}  # Naive Bayes typically doesn't require hyperparameter tuning\n",
    "    },\n",
    "    'SVM': {\n",
    "        'model': SVC(kernel='linear', probability=True),  # Enable probability estimates\n",
    "        'param_grid': {\n",
    "            'C': np.logspace(-4, 4, 10)  # Penalty parameter C of the error term\n",
    "        }\n",
    "    },\n",
    "    'KNN': {\n",
    "        'model': KNeighborsClassifier(),\n",
    "        'param_grid': {\n",
    "            'n_neighbors': [3, 5, 7, 9],  # Number of neighbors\n",
    "            'weights': ['uniform', 'distance'],  # Weight function used in prediction\n",
    "            'metric': ['euclidean', 'manhattan']  # Distance metric for tree construction\n",
    "        }\n",
    "    },\n",
    "    'DecisionTree': {\n",
    "        'model': DecisionTreeClassifier(min_samples_split=20),\n",
    "        'param_grid': {\n",
    "            'max_depth': [3, 5, 10]  # Maximum depth of trees\n",
    "        }\n",
    "    },\n",
    "    'RandomForest': {\n",
    "        'model': RandomForestClassifier(min_samples_split=20, max_features=None),\n",
    "        'param_grid': {\n",
    "            'n_estimators': [100, 200, 300],  # Number of trees\n",
    "            'max_depth': [3, 5, 10]  # Maximum depth of trees\n",
    "        }\n",
    "    },\n",
    "    'GradientBoosting': {\n",
    "        'model': GradientBoostingClassifier(learning_rate=0.01),\n",
    "        'param_grid': {\n",
    "            'n_estimators': [100, 200, 300],  # Number of boosting stages\n",
    "            'max_depth': [3, 5, 10]  # Max depth of regression estimators\n",
    "        }\n",
    "    },\n",
    "    'DeepNeuralNetwork': {\n",
    "        'model': MLPClassifier(max_iter=5000, hidden_layer_sizes=(10, 10), activation='relu', solver='sgd', learning_rate_init=0.0001),\n",
    "        'param_grid': {\n",
    "            'alpha': np.logspace(-4, 4, 10)  # L2 penalty (regularization term)\n",
    "        }\n",
    "    }\n",
    "}"
   ]
  },
  {
   "cell_type": "code",
   "execution_count": 5,
   "id": "15708dd7-5f91-4274-bc77-e2d0c4abb221",
   "metadata": {},
   "outputs": [],
   "source": [
    "import shap\n",
    "\n",
    "# Corresponding explainers\n",
    "explainers = {\n",
    "    'LogisticRegression': shap.LinearExplainer,\n",
    "    'NaiveBayes': shap.KernelExplainer,\n",
    "    'SVM': shap.KernelExplainer,\n",
    "    'KNN': shap.KernelExplainer,\n",
    "    'DecisionTree': shap.TreeExplainer,\n",
    "    'RandomForest': shap.TreeExplainer,\n",
    "    'GradientBoosting': shap.TreeExplainer,\n",
    "    'DeepNeuralNetwork': shap.KernelExplainer\n",
    "}"
   ]
  },
  {
   "cell_type": "markdown",
   "id": "5f1d5186-dcd1-48ea-b29c-d0fe3b013b40",
   "metadata": {},
   "source": [
    "# Predictive modeling"
   ]
  },
  {
   "cell_type": "markdown",
   "id": "7f4f20cb-aad3-4b45-80c2-7949ba850769",
   "metadata": {},
   "source": [
    "## Ridge Regression"
   ]
  },
  {
   "cell_type": "code",
   "execution_count": 6,
   "id": "dbcddc98-6e9d-4aca-bd20-4647a2c1713f",
   "metadata": {},
   "outputs": [
    {
     "name": "stdout",
     "output_type": "stream",
     "text": [
      "Results saved at inst/extdata/rr/sample_size_estimation.csv\n",
      "Scaler saved at inst/extdata/rr/scaler.joblib\n",
      "Model saved at inst/extdata/rr/model.joblib\n",
      "Results saved at inst/extdata/rr/prob.csv\n",
      "Results saved at inst/extdata/rr/shap_values.csv\n"
     ]
    },
    {
     "name": "stderr",
     "output_type": "stream",
     "text": [
      "Class parallel_backend is deprecated; deprecated in 1.5 to be removed in 1.7. Use joblib.{} instead.\n"
     ]
    }
   ],
   "source": [
    "prefix = 'predmod_data'\n",
    "model_name = 'LogisticRegression'\n",
    "model_dir = 'rr'\n",
    "\n",
    "train_and_estimate_sample_size(prefix, models_and_params[model_name], model_dir, seed = seed)\n",
    "train_and_save_model(prefix, models_and_params[model_name], model_dir, seed = seed)\n",
    "\n",
    "output_type = 'probability'\n",
    "load_and_predict(prefix, output_type, model_dir)\n",
    "compute_shap_values(prefix, explainers[model_name], model_dir)"
   ]
  },
  {
   "cell_type": "markdown",
   "id": "64f34d50-5409-465f-b53e-2b199b974184",
   "metadata": {},
   "source": [
    "## Naive Bayes"
   ]
  },
  {
   "cell_type": "code",
   "execution_count": 7,
   "id": "089f0ef5-6d15-4987-95fd-4aceb38e261f",
   "metadata": {},
   "outputs": [
    {
     "name": "stderr",
     "output_type": "stream",
     "text": [
      "Class parallel_backend is deprecated; deprecated in 1.5 to be removed in 1.7. Use joblib.{} instead.\n"
     ]
    },
    {
     "name": "stdout",
     "output_type": "stream",
     "text": [
      "Results saved at inst/extdata/nb/sample_size_estimation.csv\n",
      "Scaler saved at inst/extdata/nb/scaler.joblib\n",
      "Model saved at inst/extdata/nb/model.joblib\n",
      "Results saved at inst/extdata/nb/prob.csv\n"
     ]
    },
    {
     "name": "stderr",
     "output_type": "stream",
     "text": [
      "100%|███| 281/281 [00:01<00:00, 143.49it/s]"
     ]
    },
    {
     "name": "stdout",
     "output_type": "stream",
     "text": [
      "Results saved at inst/extdata/nb/shap_values.csv\n"
     ]
    },
    {
     "name": "stderr",
     "output_type": "stream",
     "text": [
      "\n"
     ]
    }
   ],
   "source": [
    "prefix = 'predmod_data'\n",
    "model_name = 'NaiveBayes'\n",
    "model_dir = 'nb'\n",
    "\n",
    "train_and_estimate_sample_size(prefix, models_and_params[model_name], model_dir, seed = seed)\n",
    "train_and_save_model(prefix, models_and_params[model_name], model_dir, seed = seed)\n",
    "\n",
    "output_type = 'probability'\n",
    "load_and_predict(prefix, output_type, model_dir)\n",
    "compute_shap_values(prefix, explainers[model_name], model_dir)"
   ]
  },
  {
   "cell_type": "markdown",
   "id": "9816e4cf-8861-4831-bcf0-dda421e91464",
   "metadata": {},
   "source": [
    "## Support Vector Machine"
   ]
  },
  {
   "cell_type": "code",
   "execution_count": 8,
   "id": "d68ee9b8-ee7e-4ce0-a8ad-4b21ae29edf6",
   "metadata": {},
   "outputs": [
    {
     "name": "stdout",
     "output_type": "stream",
     "text": [
      "Results saved at inst/extdata/svm/sample_size_estimation.csv\n",
      "Scaler saved at inst/extdata/svm/scaler.joblib\n"
     ]
    },
    {
     "name": "stderr",
     "output_type": "stream",
     "text": [
      "Class parallel_backend is deprecated; deprecated in 1.5 to be removed in 1.7. Use joblib.{} instead.\n"
     ]
    },
    {
     "name": "stdout",
     "output_type": "stream",
     "text": [
      "Model saved at inst/extdata/svm/model.joblib\n",
      "Results saved at inst/extdata/svm/prob.csv\n"
     ]
    },
    {
     "name": "stderr",
     "output_type": "stream",
     "text": [
      "100%|███| 281/281 [00:01<00:00, 143.31it/s]"
     ]
    },
    {
     "name": "stdout",
     "output_type": "stream",
     "text": [
      "Results saved at inst/extdata/svm/shap_values.csv\n"
     ]
    },
    {
     "name": "stderr",
     "output_type": "stream",
     "text": [
      "\n"
     ]
    }
   ],
   "source": [
    "prefix = 'predmod_data'\n",
    "model_name = 'SVM'\n",
    "model_dir = 'svm'\n",
    "\n",
    "train_and_estimate_sample_size(prefix, models_and_params[model_name], model_dir, seed = seed)\n",
    "train_and_save_model(prefix, models_and_params[model_name], model_dir, seed = seed)\n",
    "\n",
    "output_type = 'probability'\n",
    "load_and_predict(prefix, output_type, model_dir)\n",
    "compute_shap_values(prefix, explainers[model_name], model_dir)"
   ]
  },
  {
   "cell_type": "markdown",
   "id": "3fcbdcea-fb17-496c-9b4b-0e20a934e5ce",
   "metadata": {},
   "source": [
    "## k-Nearest Neighbor"
   ]
  },
  {
   "cell_type": "code",
   "execution_count": 9,
   "id": "68284a6f-fcf0-4ae2-bb73-42a5014e5224",
   "metadata": {},
   "outputs": [
    {
     "name": "stderr",
     "output_type": "stream",
     "text": [
      "Class parallel_backend is deprecated; deprecated in 1.5 to be removed in 1.7. Use joblib.{} instead.\n"
     ]
    },
    {
     "name": "stdout",
     "output_type": "stream",
     "text": [
      "Results saved at inst/extdata/knn/sample_size_estimation.csv\n",
      "Scaler saved at inst/extdata/knn/scaler.joblib\n",
      "Model saved at inst/extdata/knn/model.joblib\n",
      "Results saved at inst/extdata/knn/prob.csv\n"
     ]
    },
    {
     "name": "stderr",
     "output_type": "stream",
     "text": [
      "100%|████| 281/281 [00:05<00:00, 47.66it/s]"
     ]
    },
    {
     "name": "stdout",
     "output_type": "stream",
     "text": [
      "Results saved at inst/extdata/knn/shap_values.csv\n"
     ]
    },
    {
     "name": "stderr",
     "output_type": "stream",
     "text": [
      "\n"
     ]
    }
   ],
   "source": [
    "prefix = 'predmod_data'\n",
    "model_name = 'KNN'\n",
    "model_dir = 'knn'\n",
    "\n",
    "train_and_estimate_sample_size(prefix, models_and_params[model_name], model_dir, seed = seed)\n",
    "train_and_save_model(prefix, models_and_params[model_name], model_dir, seed = seed)\n",
    "\n",
    "output_type = 'probability'\n",
    "load_and_predict(prefix, output_type, model_dir)\n",
    "compute_shap_values(prefix, explainers[model_name], model_dir)"
   ]
  },
  {
   "cell_type": "markdown",
   "id": "c7046b31-4fb0-44d8-9fa1-6d5c18d7ced4",
   "metadata": {},
   "source": [
    "## Decision Tree"
   ]
  },
  {
   "cell_type": "code",
   "execution_count": 10,
   "id": "44dc9ab4-67c1-4c41-b19d-d15ead553b94",
   "metadata": {},
   "outputs": [
    {
     "name": "stdout",
     "output_type": "stream",
     "text": [
      "Results saved at inst/extdata/dt/sample_size_estimation.csv\n",
      "Scaler saved at inst/extdata/dt/scaler.joblib\n",
      "Model saved at inst/extdata/dt/model.joblib\n",
      "Results saved at inst/extdata/dt/prob.csv\n",
      "Results saved at inst/extdata/dt/shap_values.csv\n"
     ]
    },
    {
     "name": "stderr",
     "output_type": "stream",
     "text": [
      "Class parallel_backend is deprecated; deprecated in 1.5 to be removed in 1.7. Use joblib.{} instead.\n"
     ]
    }
   ],
   "source": [
    "prefix = 'predmod_data'\n",
    "model_name = 'DecisionTree'\n",
    "model_dir = 'dt'\n",
    "\n",
    "train_and_estimate_sample_size(prefix, models_and_params[model_name], model_dir, seed = seed)\n",
    "train_and_save_model(prefix, models_and_params[model_name], model_dir, seed = seed)\n",
    "\n",
    "output_type = 'probability'\n",
    "load_and_predict(prefix, output_type, model_dir)\n",
    "compute_shap_values(prefix, explainers[model_name], model_dir)"
   ]
  },
  {
   "cell_type": "markdown",
   "id": "13c06bec-539f-4cdb-8f46-8240fe633eaf",
   "metadata": {},
   "source": [
    "## Random Forest"
   ]
  },
  {
   "cell_type": "code",
   "execution_count": 11,
   "id": "b61e4ef6-f4df-4a45-a259-38c6c2025107",
   "metadata": {},
   "outputs": [
    {
     "name": "stdout",
     "output_type": "stream",
     "text": [
      "Results saved at inst/extdata/rf/sample_size_estimation.csv\n",
      "Scaler saved at inst/extdata/rf/scaler.joblib\n"
     ]
    },
    {
     "name": "stderr",
     "output_type": "stream",
     "text": [
      "Class parallel_backend is deprecated; deprecated in 1.5 to be removed in 1.7. Use joblib.{} instead.\n"
     ]
    },
    {
     "name": "stdout",
     "output_type": "stream",
     "text": [
      "Model saved at inst/extdata/rf/model.joblib\n",
      "Results saved at inst/extdata/rf/prob.csv\n",
      "Results saved at inst/extdata/rf/shap_values.csv\n"
     ]
    }
   ],
   "source": [
    "prefix = 'predmod_data'\n",
    "model_name = 'RandomForest'\n",
    "model_dir = 'rf'\n",
    "\n",
    "train_and_estimate_sample_size(prefix, models_and_params[model_name], model_dir, seed = seed)\n",
    "train_and_save_model(prefix, models_and_params[model_name], model_dir, seed = seed)\n",
    "\n",
    "output_type = 'probability'\n",
    "load_and_predict(prefix, output_type, model_dir)\n",
    "compute_shap_values(prefix, explainers[model_name], model_dir)"
   ]
  },
  {
   "cell_type": "markdown",
   "id": "1a90dfa7-707f-42a2-8e8f-6a8931223bd0",
   "metadata": {},
   "source": [
    "## Gradient Boosting Machine"
   ]
  },
  {
   "cell_type": "code",
   "execution_count": 12,
   "id": "b6e997ca-967c-4119-a6f8-d9af09fa55f8",
   "metadata": {},
   "outputs": [
    {
     "name": "stdout",
     "output_type": "stream",
     "text": [
      "Results saved at inst/extdata/gbm/sample_size_estimation.csv\n",
      "Scaler saved at inst/extdata/gbm/scaler.joblib\n"
     ]
    },
    {
     "name": "stderr",
     "output_type": "stream",
     "text": [
      "Class parallel_backend is deprecated; deprecated in 1.5 to be removed in 1.7. Use joblib.{} instead.\n"
     ]
    },
    {
     "name": "stdout",
     "output_type": "stream",
     "text": [
      "Model saved at inst/extdata/gbm/model.joblib\n",
      "Results saved at inst/extdata/gbm/prob.csv\n",
      "Results saved at inst/extdata/gbm/shap_values.csv\n"
     ]
    }
   ],
   "source": [
    "prefix = 'predmod_data'\n",
    "model_name = 'GradientBoosting'\n",
    "model_dir = 'gbm'\n",
    "\n",
    "train_and_estimate_sample_size(prefix, models_and_params[model_name], model_dir, seed = seed)\n",
    "train_and_save_model(prefix, models_and_params[model_name], model_dir, seed = seed)\n",
    "\n",
    "output_type = 'probability'\n",
    "load_and_predict(prefix, output_type, model_dir)\n",
    "compute_shap_values(prefix, explainers[model_name], model_dir)"
   ]
  },
  {
   "cell_type": "markdown",
   "id": "3289b776-2072-45a8-b2bd-81024abf39b6",
   "metadata": {},
   "source": [
    "## Deep Neural Network"
   ]
  },
  {
   "cell_type": "code",
   "execution_count": 13,
   "id": "00cd17d1-669c-4645-9640-e2892c86adb3",
   "metadata": {},
   "outputs": [
    {
     "name": "stdout",
     "output_type": "stream",
     "text": [
      "Results saved at inst/extdata/dnn/sample_size_estimation.csv\n",
      "Scaler saved at inst/extdata/dnn/scaler.joblib\n"
     ]
    },
    {
     "name": "stderr",
     "output_type": "stream",
     "text": [
      "Class parallel_backend is deprecated; deprecated in 1.5 to be removed in 1.7. Use joblib.{} instead.\n"
     ]
    },
    {
     "name": "stdout",
     "output_type": "stream",
     "text": [
      "Model saved at inst/extdata/dnn/model.joblib\n",
      "Results saved at inst/extdata/dnn/prob.csv\n"
     ]
    },
    {
     "name": "stderr",
     "output_type": "stream",
     "text": [
      "100%|███| 281/281 [00:01<00:00, 153.03it/s]"
     ]
    },
    {
     "name": "stdout",
     "output_type": "stream",
     "text": [
      "Results saved at inst/extdata/dnn/shap_values.csv\n"
     ]
    },
    {
     "name": "stderr",
     "output_type": "stream",
     "text": [
      "\n"
     ]
    }
   ],
   "source": [
    "prefix = 'predmod_data'\n",
    "model_name = 'DeepNeuralNetwork'\n",
    "model_dir = 'dnn'\n",
    "\n",
    "train_and_estimate_sample_size(prefix, models_and_params[model_name], model_dir, seed = seed)\n",
    "train_and_save_model(prefix, models_and_params[model_name], model_dir, seed = seed)\n",
    "\n",
    "output_type = 'probability'\n",
    "load_and_predict(prefix, output_type, model_dir)\n",
    "compute_shap_values(prefix, explainers[model_name], model_dir)"
   ]
  }
 ],
 "metadata": {
  "kernelspec": {
   "display_name": "Python 3 (ipykernel)",
   "language": "python",
   "name": "python3"
  },
  "language_info": {
   "codemirror_mode": {
    "name": "ipython",
    "version": 3
   },
   "file_extension": ".py",
   "mimetype": "text/x-python",
   "name": "python",
   "nbconvert_exporter": "python",
   "pygments_lexer": "ipython3",
   "version": "3.12.4"
  }
 },
 "nbformat": 4,
 "nbformat_minor": 5
}
